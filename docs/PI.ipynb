{
 "cells": [
  {
   "cell_type": "markdown",
   "metadata": {},
   "source": [
    "# 圆周率 π"
   ]
  },
  {
   "cell_type": "markdown",
   "metadata": {},
   "source": [
    "## 简介"
   ]
  },
  {
   "cell_type": "markdown",
   "metadata": {},
   "source": [
    "圆周率 $\\pi$ 可能是最广为人知的无理数了。无理数英文 Irrational numbers，语义为没有道理。但更深一步，Irrational 的词根 ratio 来自希腊语比例。有理数更准确的指能写能比率(分数)形式的数字，无理数则不可以写成分数形式。\n",
    "\n",
    "复数记为$\\mathbb{C}$ 实数记为$\\mathbb{R}$ 有理数记为 $\\mathbb{Q}$ 整数记为 $\\mathbb{Z}$ 自然数记为 $\\mathbb{N}$ 包含关系如下：\n",
    "\n",
    "![](https://upload.wikimedia.org/wikipedia/commons/thumb/a/a0/NumberSetinC.svg/500px-NumberSetinC.svg.png)"
   ]
  },
  {
   "cell_type": "markdown",
   "metadata": {},
   "source": [
    "## 定义"
   ]
  },
  {
   "cell_type": "markdown",
   "metadata": {},
   "source": [
    "π 是圆的周长和直径的比\n",
    "\n",
    "$C = \\pi d = 2\\pi r$ \n",
    "\n",
    "$S = \\pi * (d/2)^2 =  \\pi r^2$\n",
    "\n",
    "\n",
    "关于圆周率的计算公式很多，这里只讲一个 π 的莱布尼茨公式\n",
    "\n",
    "$\\displaystyle {\\frac {\\pi }{4}}=\\sum _{n=0}^{\\infty }\\,{\\frac {(-1)^{n}}{2n+1}}$\n",
    "\n",
    "展开后即\n",
    "\n",
    "$\\displaystyle \\frac {\\pi}{4} = 1 - \\frac {1}{3} + \\frac {1}{5} - \\frac {1}{7} + \\frac {1}{1} + \\cdots$\n",
    "\n",
    "使用这个公式，我们可以很高效地计算出 $\\frac {\\pi}{4}$"
   ]
  },
  {
   "cell_type": "code",
   "execution_count": null,
   "metadata": {},
   "outputs": [],
   "source": [
    "quarterPI = 0\n",
    "MAX = int(1e6)\n",
    "for n in range(MAX):\n",
    "  quarterPI += ((-1) ** n) / (2 * n + 1)\n",
    "\n",
    "print(quarterPI * 4)"
   ]
  },
  {
   "cell_type": "markdown",
   "metadata": {},
   "source": [
    "```javascript\n",
    "let quarterPI = 0\n",
    "const MAX = 1e6\n",
    "for (let n = 0; n < MAX; ++n) {\n",
    "  quarterPI +=  ((-1) ** n) / (2 * n + 1)\n",
    "}\n",
    "console.log(quarterPI * 4)\n",
    "3.1415916535897743\n",
    "```"
   ]
  },
  {
   "cell_type": "markdown",
   "metadata": {},
   "source": [
    "## 应用"
   ]
  },
  {
   "cell_type": "markdown",
   "metadata": {},
   "source": [
    "$\\pi$ 的应用非常广泛，除了圆、三角等几何图形，甚至还出现在了概率论、物理中。后面的章节会再次提到。如果有一天当人类发现了外星人，他们世界也一定会有 $\\pi$"
   ]
  },
  {
   "cell_type": "code",
   "execution_count": null,
   "metadata": {},
   "outputs": [],
   "source": []
  }
 ],
 "metadata": {
  "kernelspec": {
   "display_name": "Python 3",
   "language": "python",
   "name": "python3"
  },
  "language_info": {
   "codemirror_mode": {
    "name": "ipython",
    "version": 3
   },
   "file_extension": ".py",
   "mimetype": "text/x-python",
   "name": "python",
   "nbconvert_exporter": "python",
   "pygments_lexer": "ipython3",
   "version": "3.7.4"
  }
 },
 "nbformat": 4,
 "nbformat_minor": 4
}
